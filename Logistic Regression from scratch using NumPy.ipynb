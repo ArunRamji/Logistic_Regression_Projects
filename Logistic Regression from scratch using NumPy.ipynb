{
 "cells": [
  {
   "cell_type": "code",
   "execution_count": 1,
   "metadata": {},
   "outputs": [],
   "source": [
    "#Binary Classification \n",
    "#Admitted vs Notadmitted"
   ]
  },
  {
   "cell_type": "code",
   "execution_count": 2,
   "metadata": {},
   "outputs": [],
   "source": [
    "import pandas as pd\n",
    "import numpy as np"
   ]
  },
  {
   "cell_type": "code",
   "execution_count": 3,
   "metadata": {},
   "outputs": [],
   "source": [
    "df = pd.read_csv('/Users/arunramji/Downloads/machine-learning-ex2/ex2/ex2data1.txt'\n",
    "                 ,sep = \",\"\n",
    "                ,header = None)"
   ]
  },
  {
   "cell_type": "code",
   "execution_count": 4,
   "metadata": {},
   "outputs": [
    {
     "data": {
      "text/html": [
       "<div>\n",
       "<style scoped>\n",
       "    .dataframe tbody tr th:only-of-type {\n",
       "        vertical-align: middle;\n",
       "    }\n",
       "\n",
       "    .dataframe tbody tr th {\n",
       "        vertical-align: top;\n",
       "    }\n",
       "\n",
       "    .dataframe thead th {\n",
       "        text-align: right;\n",
       "    }\n",
       "</style>\n",
       "<table border=\"1\" class=\"dataframe\">\n",
       "  <thead>\n",
       "    <tr style=\"text-align: right;\">\n",
       "      <th></th>\n",
       "      <th>exam1</th>\n",
       "      <th>exam2</th>\n",
       "      <th>Admission</th>\n",
       "    </tr>\n",
       "  </thead>\n",
       "  <tbody>\n",
       "    <tr>\n",
       "      <th>0</th>\n",
       "      <td>34.623660</td>\n",
       "      <td>78.024693</td>\n",
       "      <td>0</td>\n",
       "    </tr>\n",
       "    <tr>\n",
       "      <th>1</th>\n",
       "      <td>30.286711</td>\n",
       "      <td>43.894998</td>\n",
       "      <td>0</td>\n",
       "    </tr>\n",
       "    <tr>\n",
       "      <th>2</th>\n",
       "      <td>35.847409</td>\n",
       "      <td>72.902198</td>\n",
       "      <td>0</td>\n",
       "    </tr>\n",
       "    <tr>\n",
       "      <th>3</th>\n",
       "      <td>60.182599</td>\n",
       "      <td>86.308552</td>\n",
       "      <td>1</td>\n",
       "    </tr>\n",
       "    <tr>\n",
       "      <th>4</th>\n",
       "      <td>79.032736</td>\n",
       "      <td>75.344376</td>\n",
       "      <td>1</td>\n",
       "    </tr>\n",
       "  </tbody>\n",
       "</table>\n",
       "</div>"
      ],
      "text/plain": [
       "       exam1      exam2  Admission\n",
       "0  34.623660  78.024693          0\n",
       "1  30.286711  43.894998          0\n",
       "2  35.847409  72.902198          0\n",
       "3  60.182599  86.308552          1\n",
       "4  79.032736  75.344376          1"
      ]
     },
     "execution_count": 4,
     "metadata": {},
     "output_type": "execute_result"
    }
   ],
   "source": [
    "df.columns = ['exam1','exam2','Admission']\n",
    "df.head() "
   ]
  },
  {
   "cell_type": "code",
   "execution_count": 5,
   "metadata": {},
   "outputs": [
    {
     "name": "stdout",
     "output_type": "stream",
     "text": [
      "(100, 2)\n",
      "(100, 1)\n"
     ]
    }
   ],
   "source": [
    "#assign variable\n",
    "matrix = df.values\n",
    "X = matrix[:,0:2]\n",
    "y = matrix[:,2:]\n",
    "print(X.shape)\n",
    "print(y.shape)"
   ]
  },
  {
   "cell_type": "code",
   "execution_count": 6,
   "metadata": {},
   "outputs": [],
   "source": [
    "#defining index fucnction\n",
    "def intx(y,a):\n",
    "    indices = [i for i,val in enumerate(y) if val==a ]\n",
    "    return indices"
   ]
  },
  {
   "cell_type": "code",
   "execution_count": 7,
   "metadata": {},
   "outputs": [
    {
     "data": {
      "text/plain": [
       "60"
      ]
     },
     "execution_count": 7,
     "metadata": {},
     "output_type": "execute_result"
    }
   ],
   "source": [
    "#index of postive and negative classes\n",
    "pos = intx(y,1)\n",
    "neg = intx(y,0)\n",
    "\n",
    "#number of positive classes from the dataset\n",
    "len(pos)"
   ]
  },
  {
   "cell_type": "code",
   "execution_count": null,
   "metadata": {},
   "outputs": [],
   "source": []
  },
  {
   "cell_type": "code",
   "execution_count": 9,
   "metadata": {},
   "outputs": [
    {
     "data": {
      "image/png": "[encoded data removed]",
      "text/plain": [
       "<Figure size 432x288 with 1 Axes>"
      ]
     },
     "metadata": {
      "needs_background": "light"
     },
     "output_type": "display_data"
    }
   ],
   "source": [
    "#plotting first two variable age and cigerPerDay against output classes\n",
    "import matplotlib.pyplot as plt\n",
    "fig = plt.figure()\n",
    "\n",
    "ax = fig.add_axes([0,0,1,1])\n",
    "ax.plot(X[pos,0],X[pos,1],'gx')\n",
    "ax.plot(X[neg,0],X[neg,1],'ro')\n",
    "ax.set_xlabel('Exam_Score1')\n",
    "ax.set_ylabel('Exam_Score2')\n",
    "ax.set_title('Admitted Vs not Admitted')\n",
    "plt.grid()"
   ]
  },
  {
   "cell_type": "code",
   "execution_count": 10,
   "metadata": {},
   "outputs": [],
   "source": [
    "#Add intercept term for X\n",
    "m = len(X)\n",
    "x = np.hstack([np.ones([m,1]),X])\n",
    "\n",
    "#Initialising fitting parameter\n",
    "init_theta = np.zeros([x.shape[1],1])"
   ]
  },
  {
   "cell_type": "code",
   "execution_count": 11,
   "metadata": {},
   "outputs": [
    {
     "data": {
      "text/plain": [
       "(100, 1)"
      ]
     },
     "execution_count": 11,
     "metadata": {},
     "output_type": "execute_result"
    }
   ],
   "source": [
    "y.shape"
   ]
  },
  {
   "cell_type": "code",
   "execution_count": 11,
   "metadata": {},
   "outputs": [],
   "source": [
    "#Sigmoid function\n",
    "def sigmoid(x):\n",
    "    return 1/(1+(np.exp(-x)))\n",
    "\n",
    "#define cost function\n",
    "def cost(theta,x,y):\n",
    "    m = len(x)\n",
    "    J = (-1/m) * np.sum(np.multiply(y.T, np.log(sigmoid(x @ theta))) \n",
    "        + np.multiply((1-y.T), np.log(1 - sigmoid(x @ theta))))\n",
    "    return J\n",
    "\n",
    "#gradient term\n",
    "def gradient(theta,x,y):\n",
    "    m = len(x)\n",
    "    h_of_x = sigmoid(x@theta)\n",
    "    grad = 1 / m * (x.T @ (h_of_x - y))\n",
    "    return grad"
   ]
  },
  {
   "cell_type": "code",
   "execution_count": 12,
   "metadata": {},
   "outputs": [
    {
     "data": {
      "text/plain": [
       "69.31471805599453"
      ]
     },
     "execution_count": 12,
     "metadata": {},
     "output_type": "execute_result"
    }
   ],
   "source": [
    "#cost\n",
    "j = cost(init_theta,x,y)\n",
    "j"
   ]
  },
  {
   "cell_type": "code",
   "execution_count": 13,
   "metadata": {},
   "outputs": [
    {
     "data": {
      "text/plain": [
       "array([[ -0.1       ],\n",
       "       [-12.00921659],\n",
       "       [-11.26284221]])"
      ]
     },
     "execution_count": 13,
     "metadata": {},
     "output_type": "execute_result"
    }
   ],
   "source": [
    "#gradient\n",
    "g = gradient(init_theta,x,y)\n",
    "g"
   ]
  },
  {
   "cell_type": "code",
   "execution_count": 14,
   "metadata": {},
   "outputs": [],
   "source": [
    "#optimise theta \n",
    "from scipy import optimize as op\n",
    "\n",
    "result = op.fmin_tnc(func=cost,\n",
    "                     x0=init_theta.flatten(),\n",
    "                     fprime=gradient,\n",
    "                     args=(x,y.flatten()))"
   ]
  },
  {
   "cell_type": "code",
   "execution_count": 15,
   "metadata": {},
   "outputs": [
    {
     "data": {
      "text/plain": [
       "array([[-25.16131869],\n",
       "       [  0.20623159],\n",
       "       [  0.20147149]])"
      ]
     },
     "execution_count": 15,
     "metadata": {},
     "output_type": "execute_result"
    }
   ],
   "source": [
    "optimal_theta = result[0].reshape(3,1)\n",
    "optimal_theta"
   ]
  },
  {
   "cell_type": "code",
   "execution_count": 16,
   "metadata": {},
   "outputs": [
    {
     "data": {
      "text/plain": [
       "<matplotlib.legend.Legend at 0x1022ff6550>"
      ]
     },
     "execution_count": 16,
     "metadata": {},
     "output_type": "execute_result"
    },
    {
     "data": {
      "image/png": "[encoded data removed]",
      "text/plain": [
       "<Figure size 432x288 with 1 Axes>"
      ]
     },
     "metadata": {
      "needs_background": "light"
     },
     "output_type": "display_data"
    }
   ],
   "source": [
    "#plotting decision boundary\n",
    "fig = plt.figure()\n",
    "ax = fig.add_axes([0,0,1,1])\n",
    "\n",
    "ax.scatter(X[pos,0],X[pos,1],c=\"r\",marker=\"+\",label=\"Admitted\")\n",
    "ax.scatter(X[neg,0],X[neg,1],c=\"b\",marker=\"x\",label=\"Not admitted\")\n",
    "\n",
    "#only need two points to define a line, so choose two points\n",
    "x_value= np.array([np.min(X[:,1])-2,np.max(X[:,1])+2])\n",
    "\n",
    "#calculate decision boundary line\n",
    "y_value=-(optimal_theta[0] +optimal_theta[1]*x_value)/optimal_theta[2]\n",
    "\n",
    "ax.plot(x_value,y_value, \"g-\")\n",
    "ax.set_xlabel(\"Exam 1 score\")\n",
    "ax.set_ylabel(\"Exam 2 score\")\n",
    "plt.grid()\n",
    "plt.legend()"
   ]
  },
  {
   "cell_type": "code",
   "execution_count": 17,
   "metadata": {},
   "outputs": [
    {
     "name": "stdout",
     "output_type": "stream",
     "text": [
      "For a student with scores 45 and 85, we predict an admission probability of 0.7762906242704579\n"
     ]
    }
   ],
   "source": [
    "x_test = np.array([45,85])\n",
    "x_test = np.append(np.ones(1),x_test)\n",
    "prob = sigmoid(x_test.dot(optimal_theta))\n",
    "print(\"For a student with scores 45 and 85, we predict an admission probability of\",prob[0])"
   ]
  },
  {
   "cell_type": "code",
   "execution_count": 18,
   "metadata": {},
   "outputs": [],
   "source": [
    "p = sigmoid(x @ optimal_theta)>=0.5 ;"
   ]
  },
  {
   "cell_type": "code",
   "execution_count": 173,
   "metadata": {},
   "outputs": [
    {
     "name": "stdout",
     "output_type": "stream",
     "text": [
      "Model prediction accuracty against training set is :\n",
      " 89.0\n"
     ]
    }
   ],
   "source": [
    "print('Model prediction accuracty against training set is :\\n', np.mean(p == y)*100)"
   ]
  },
  {
   "cell_type": "code",
   "execution_count": null,
   "metadata": {},
   "outputs": [],
   "source": []
  }
 ],
 "metadata": {
  "kernelspec": {
   "display_name": "Python 3",
   "language": "python",
   "name": "python3"
  },
  "language_info": {
   "codemirror_mode": {
    "name": "ipython",
    "version": 3
   },
   "file_extension": ".py",
   "mimetype": "text/x-python",
   "name": "python",
   "nbconvert_exporter": "python",
   "pygments_lexer": "ipython3",
   "version": "3.7.3"
  }
 },
 "nbformat": 4,
 "nbformat_minor": 2
}
